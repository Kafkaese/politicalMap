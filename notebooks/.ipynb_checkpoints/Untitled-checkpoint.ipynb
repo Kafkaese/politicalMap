{
 "cells": [
  {
   "cell_type": "code",
   "execution_count": 1,
   "id": "731b3ba4",
   "metadata": {},
   "outputs": [],
   "source": [
    "import pandas as pd"
   ]
  },
  {
   "cell_type": "code",
   "execution_count": 2,
   "id": "ccbb9548",
   "metadata": {},
   "outputs": [
    {
     "name": "stdout",
     "output_type": "stream",
     "text": [
      "beautifulsoup4==4.11.1\r\n",
      "certifi==2022.9.24\r\n",
      "charset-normalizer==2.1.1\r\n",
      "idna==3.4\r\n",
      "requests==2.28.1\r\n",
      "soupsieve==2.3.2.post1\r\n",
      "urllib3==1.26.12\r\n"
     ]
    }
   ],
   "source": [
    "!pip freeze\n"
   ]
  },
  {
   "cell_type": "code",
   "execution_count": 3,
   "id": "077eb5ec",
   "metadata": {},
   "outputs": [],
   "source": [
    "df = pd.read_csv('../data/countries.csv')"
   ]
  },
  {
   "cell_type": "code",
   "execution_count": 4,
   "id": "670dad1a",
   "metadata": {},
   "outputs": [
    {
     "data": {
      "text/html": [
       "<div>\n",
       "<style scoped>\n",
       "    .dataframe tbody tr th:only-of-type {\n",
       "        vertical-align: middle;\n",
       "    }\n",
       "\n",
       "    .dataframe tbody tr th {\n",
       "        vertical-align: top;\n",
       "    }\n",
       "\n",
       "    .dataframe thead th {\n",
       "        text-align: right;\n",
       "    }\n",
       "</style>\n",
       "<table border=\"1\" class=\"dataframe\">\n",
       "  <thead>\n",
       "    <tr style=\"text-align: right;\">\n",
       "      <th></th>\n",
       "      <th>country name</th>\n",
       "      <th>ruling party</th>\n",
       "      <th>url</th>\n",
       "      <th>position</th>\n",
       "    </tr>\n",
       "  </thead>\n",
       "  <tbody>\n",
       "    <tr>\n",
       "      <th>0</th>\n",
       "      <td>Afghanistan</td>\n",
       "      <td>No Parties</td>\n",
       "      <td>NaN</td>\n",
       "      <td>NaN</td>\n",
       "    </tr>\n",
       "    <tr>\n",
       "      <th>1</th>\n",
       "      <td>Abkhazia</td>\n",
       "      <td>Independents</td>\n",
       "      <td>NaN</td>\n",
       "      <td>NaN</td>\n",
       "    </tr>\n",
       "    <tr>\n",
       "      <th>2</th>\n",
       "      <td>Åland</td>\n",
       "      <td>Åland Centre</td>\n",
       "      <td>/wiki/%C3%85land_Centre</td>\n",
       "      <td>Centre</td>\n",
       "    </tr>\n",
       "    <tr>\n",
       "      <th>3</th>\n",
       "      <td>Albania</td>\n",
       "      <td>Socialist Party of Albania</td>\n",
       "      <td>/wiki/Socialist_Party_of_Albania</td>\n",
       "      <td>Centre-left</td>\n",
       "    </tr>\n",
       "    <tr>\n",
       "      <th>4</th>\n",
       "      <td>Alderney</td>\n",
       "      <td>No Parties</td>\n",
       "      <td>NaN</td>\n",
       "      <td>NaN</td>\n",
       "    </tr>\n",
       "    <tr>\n",
       "      <th>...</th>\n",
       "      <td>...</td>\n",
       "      <td>...</td>\n",
       "      <td>...</td>\n",
       "      <td>...</td>\n",
       "    </tr>\n",
       "    <tr>\n",
       "      <th>248</th>\n",
       "      <td>Wallis and Futuna</td>\n",
       "      <td>No Parties</td>\n",
       "      <td>NaN</td>\n",
       "      <td>NaN</td>\n",
       "    </tr>\n",
       "    <tr>\n",
       "      <th>249</th>\n",
       "      <td>Western Sahara</td>\n",
       "      <td>Polisario Front</td>\n",
       "      <td>/wiki/Polisario_Front</td>\n",
       "      <td>Centre-left</td>\n",
       "    </tr>\n",
       "    <tr>\n",
       "      <th>250</th>\n",
       "      <td>Yemen</td>\n",
       "      <td>General People's Congress (Yemen)</td>\n",
       "      <td>/wiki/General_People%27s_Congress_(Yemen)</td>\n",
       "      <td>Centre</td>\n",
       "    </tr>\n",
       "    <tr>\n",
       "      <th>251</th>\n",
       "      <td>Zambia</td>\n",
       "      <td>United Party for National Development</td>\n",
       "      <td>/wiki/United_Party_for_National_Development</td>\n",
       "      <td>Centre</td>\n",
       "    </tr>\n",
       "    <tr>\n",
       "      <th>252</th>\n",
       "      <td>Zimbabwe</td>\n",
       "      <td>Zimbabwe African National Union – Patriotic Front</td>\n",
       "      <td>/wiki/Zimbabwe_African_National_Union_%E2%80%9...</td>\n",
       "      <td>Big tent</td>\n",
       "    </tr>\n",
       "  </tbody>\n",
       "</table>\n",
       "<p>253 rows × 4 columns</p>\n",
       "</div>"
      ],
      "text/plain": [
       "          country name                                       ruling party  \\\n",
       "0          Afghanistan                                         No Parties   \n",
       "1             Abkhazia                                       Independents   \n",
       "2                Åland                                       Åland Centre   \n",
       "3              Albania                         Socialist Party of Albania   \n",
       "4             Alderney                                         No Parties   \n",
       "..                 ...                                                ...   \n",
       "248  Wallis and Futuna                                         No Parties   \n",
       "249     Western Sahara                                    Polisario Front   \n",
       "250              Yemen                  General People's Congress (Yemen)   \n",
       "251             Zambia              United Party for National Development   \n",
       "252           Zimbabwe  Zimbabwe African National Union – Patriotic Front   \n",
       "\n",
       "                                                   url     position  \n",
       "0                                                  NaN          NaN  \n",
       "1                                                  NaN          NaN  \n",
       "2                              /wiki/%C3%85land_Centre       Centre  \n",
       "3                     /wiki/Socialist_Party_of_Albania  Centre-left  \n",
       "4                                                  NaN          NaN  \n",
       "..                                                 ...          ...  \n",
       "248                                                NaN          NaN  \n",
       "249                              /wiki/Polisario_Front  Centre-left  \n",
       "250          /wiki/General_People%27s_Congress_(Yemen)       Centre  \n",
       "251        /wiki/United_Party_for_National_Development       Centre  \n",
       "252  /wiki/Zimbabwe_African_National_Union_%E2%80%9...     Big tent  \n",
       "\n",
       "[253 rows x 4 columns]"
      ]
     },
     "execution_count": 4,
     "metadata": {},
     "output_type": "execute_result"
    }
   ],
   "source": [
    "df"
   ]
  },
  {
   "cell_type": "code",
   "execution_count": 8,
   "id": "2d8e5fbf",
   "metadata": {},
   "outputs": [
    {
     "data": {
      "text/plain": [
       "array([nan, 'Centre', 'Centre-left', 'Big tent', 'Centre-right',\n",
       "       'Left-wing', 'Center-left', 'Far-left', 'Center', 'Right-wing'],\n",
       "      dtype=object)"
      ]
     },
     "execution_count": 8,
     "metadata": {},
     "output_type": "execute_result"
    }
   ],
   "source": [
    "df.position.unique()"
   ]
  },
  {
   "cell_type": "code",
   "execution_count": null,
   "id": "d9e30656",
   "metadata": {},
   "outputs": [],
   "source": [
    "df.position_encoded_3 = df.position.apply(lambda x: {'Centre': 0 , 'Centre-left': -1 , 'Big tent': 0, 'Centre-right': 1,\n",
    "       'Left-wing': -1, 'Center-left': -1, 'Far-left': -1, 'Center': 0, 'Right-wing': 1})"
   ]
  }
 ],
 "metadata": {
  "kernelspec": {
   "display_name": "Python 3 (ipykernel)",
   "language": "python",
   "name": "python3"
  },
  "language_info": {
   "codemirror_mode": {
    "name": "ipython",
    "version": 3
   },
   "file_extension": ".py",
   "mimetype": "text/x-python",
   "name": "python",
   "nbconvert_exporter": "python",
   "pygments_lexer": "ipython3",
   "version": "3.9.15"
  },
  "toc": {
   "base_numbering": 1,
   "nav_menu": {},
   "number_sections": true,
   "sideBar": true,
   "skip_h1_title": false,
   "title_cell": "Table of Contents",
   "title_sidebar": "Contents",
   "toc_cell": false,
   "toc_position": {},
   "toc_section_display": true,
   "toc_window_display": false
  }
 },
 "nbformat": 4,
 "nbformat_minor": 5
}
